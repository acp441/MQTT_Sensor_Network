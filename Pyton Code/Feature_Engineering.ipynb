{
 "cells": [
  {
   "cell_type": "markdown",
   "id": "07e6c4f8",
   "metadata": {},
   "source": [
    "# Feature Engineering für eine Drohnen Fernsteuerung, die mit einem MPU6050 ausgestattet ist"
   ]
  },
  {
   "cell_type": "markdown",
   "id": "44bf9ab5",
   "metadata": {},
   "source": [
    "## 1. Einlesen der Datei und überprüfen, ob die Datenreihen vollständig sind"
   ]
  },
  {
   "cell_type": "code",
   "execution_count": null,
   "id": "943f7296",
   "metadata": {},
   "outputs": [],
   "source": [
    "import pandas as pd\n",
    "from sklearn.model_selection import train_test_split\n",
    "from pandas.plotting import scatter_matrix as scatmat\n",
    "import os\n",
    "\n",
    "\n",
    "# Absolute Pfad zur Datei extrahieren\n",
    "ziel_pfad = 'D:\\measurements'\n",
    "\n",
    "# CSV-Datei einlesen\n",
    "data = pd.read_csv(os.path.join(ziel_pfad, 'mpu6050_lennard_run1.csv'), sep=',', decimal='.')\n",
    "\n",
    "# Die ersten Zeilen anzeigen\n",
    "data.head()\n",
    "\n",
    "# Informationen über den Datensatz anzeigen\n",
    "data.info()\n",
    "\n",
    "# Sind alle Klassen gleich stark vertreten?\n",
    "data['RuheState'].value_counts()\n",
    "\n",
    "# Gibt es Auffälligkeiten bei der Verteilung der Werte?\n",
    "data.describe()"
   ]
  },
  {
   "cell_type": "markdown",
   "id": "d1f24ca4",
   "metadata": {},
   "source": [
    "## 2. Irrelevante Merkmale entfernen"
   ]
  },
  {
   "cell_type": "code",
   "execution_count": null,
   "id": "39c7d3cc",
   "metadata": {},
   "outputs": [],
   "source": [
    "# data = data.drop(['user', 'gender'], axis=1)"
   ]
  },
  {
   "cell_type": "markdown",
   "id": "e21dacb0",
   "metadata": {},
   "source": [
    "# 3. Visualisierung der Verteilung der numerischen Werte"
   ]
  },
  {
   "cell_type": "code",
   "execution_count": null,
   "id": "78d463e5",
   "metadata": {},
   "outputs": [],
   "source": [
    "%matplotlib inline\n",
    "from matplotlib import pyplot as plt\n",
    "data.hist(bins=50, figsize=(20, 15))\n",
    "plt.show()"
   ]
  },
  {
   "cell_type": "markdown",
   "id": "e6efdd14",
   "metadata": {},
   "source": [
    "## 4. Überprüfen, ob es fehlerhafte Werte gibt (Bspw.: in Spalte 'AccX')"
   ]
  },
  {
   "cell_type": "code",
   "execution_count": null,
   "id": "0949a27f",
   "metadata": {},
   "outputs": [],
   "source": [
    "pd.set_option('display.max_rows', 500)\n",
    "data['AccX'].value_counts()"
   ]
  },
  {
   "cell_type": "markdown",
   "id": "eefec838",
   "metadata": {},
   "source": [
    "## 5. Fehlerhaften Wert korrigieren (Beispiel)"
   ]
  },
  {
   "cell_type": "code",
   "execution_count": null,
   "id": "a357a3fa",
   "metadata": {},
   "outputs": [],
   "source": [
    "#data.loc[data['z4'] == '-14420-11-2011 04:50:23.713', 'z4'] = -144\n",
    "\n",
    "# Spalte 'z4' in numerischen Typ umwandeln\n",
    "#data['z4'] = pd.to_numeric(data['z4'])\n",
    "\n",
    "# Informationen über den Datensatz erneut anzeigen\n",
    "data.info()"
   ]
  },
  {
   "cell_type": "markdown",
   "id": "47d26230",
   "metadata": {},
   "source": [
    "## 6. Aufteilung des Datensatzes in Trainings- und Validierungsdaten"
   ]
  },
  {
   "cell_type": "code",
   "execution_count": null,
   "id": "2ec47664",
   "metadata": {},
   "outputs": [],
   "source": [
    "# Aufteilung in Trainings- und Validierungsdatensätze\n",
    "train, val = train_test_split(data, test_size=0.2, random_state=42)\n",
    "\n",
    "# Anzahl der Datensätze anzeigen\n",
    "len(train), len(val)\n",
    "\n",
    "# Kopie des Trainingsdatensatzes für Modifikationen\n",
    "data = train.copy()\n"
   ]
  },
  {
   "cell_type": "markdown",
   "id": "24771fd8",
   "metadata": {},
   "source": [
    "## 7. Begrenzung der Auswahl auf die Sensorspalten"
   ]
  },
  {
   "cell_type": "code",
   "execution_count": null,
   "id": "90985d7c",
   "metadata": {},
   "outputs": [],
   "source": [
    "data.hist(bins=50, figsize=(20, 15))\n",
    "plt.show()"
   ]
  },
  {
   "cell_type": "markdown",
   "id": "bfd1b96a",
   "metadata": {},
   "source": [
    "## 8. Prüfung der Korrelationen für verschiedene Sensoren"
   ]
  },
  {
   "cell_type": "code",
   "execution_count": null,
   "id": "196c6d37",
   "metadata": {
    "scrolled": false
   },
   "outputs": [],
   "source": [
    "sensors = ['AccX', 'AccY', 'AccZ', 'GyroX', 'GyroY', 'GyroZ', 'AngleX', 'AngleY', 'AngleZ', 'RuheState', 'FernstState', 'TranspState']\n",
    "\n",
    "for sensor_group in [sensors[:3], sensors[3:6], sensors[6:9]]:\n",
    "    scatmat(data[sensor_group], figsize=(15, 10))\n",
    "    plt.show()"
   ]
  },
  {
   "cell_type": "markdown",
   "id": "fe428d3c",
   "metadata": {},
   "source": [
    "## 9. Visualisierung der Klassenzuordnung im Scatterplot (Beispiel)"
   ]
  },
  {
   "cell_type": "code",
   "execution_count": null,
   "id": "bdfe8156",
   "metadata": {},
   "outputs": [],
   "source": [
    "# Erstellung einer neuen Spalte \"class_num\" mit einem numerischen Wert je Klasse\n",
    "# (Nicht notwendig, da die Rohdaten bereits in dieser Form vorliegen)\n",
    "\n",
    "#data['class_num'], data_categories = data['RuheState'].factorize()\n",
    "\n",
    "# Anzeige der Zuordnung der Klassen\n",
    "#for i, cat in enumerate(data_categories):\n",
    "#    print(\"Klasse %d: %s\" % (i, cat))\n"
   ]
  },
  {
   "cell_type": "markdown",
   "id": "c3f8108b",
   "metadata": {},
   "source": [
    "## 9. Visualisierung der Klassenzuordnung im Scatterplot"
   ]
  },
  {
   "cell_type": "code",
   "execution_count": null,
   "id": "61657250",
   "metadata": {},
   "outputs": [],
   "source": [
    "# Dieser Abschnitt macht das selbe wie der Nachfolgende, zählt aber nicht wie häufig eine Klasse vorkommt\n",
    "\n",
    "# Anzeige der eindeutigen Klassenwerte\n",
    "#unique_classes = data[['RuheState', 'FernstState', 'TranspState']].drop_duplicates().reset_index(drop=True)\n",
    "\n",
    "#for i, row in unique_classes.iterrows():\n",
    "#    print(f\"Klasse {i}: Ruhe={row['RuheState']}, Fernsteuerung={row['FernstState']}, Transport={row['TranspState']}\")\n"
   ]
  },
  {
   "cell_type": "code",
   "execution_count": null,
   "id": "c2d48f43",
   "metadata": {},
   "outputs": [],
   "source": [
    "# Gruppiere nach den Klassenattributen und zähle die Anzahl der Vorkommen\n",
    "class_counts = data.groupby(['RuheState', 'FernstState', 'TranspState']).size().reset_index(name='count')\n",
    "\n",
    "# Anzeige aller Kombinationen\n",
    "for i, row in class_counts.iterrows():\n",
    "    print(f\"Klasse {i}: Ruhe={row['RuheState']}, Fernsteuerung={row['FernstState']}, Transport={row['TranspState']} - Anzahl: {row['count']}\")\n"
   ]
  },
  {
   "cell_type": "markdown",
   "id": "9afe7183",
   "metadata": {},
   "source": [
    "## 10. Scatterplots für verschiedene Sensorpaare (Beispiel)"
   ]
  },
  {
   "cell_type": "code",
   "execution_count": null,
   "id": "efa47727",
   "metadata": {},
   "outputs": [],
   "source": [
    "# Wähle Sensorpaare\n",
    "sensor_pairs = [('AccX', 'AccY'), ('GyroX', 'GyroY'), ('GyroZ', 'AngleX'), ('AngleY', 'AngleZ')]\n",
    "\n",
    "for pair in sensor_pairs:\n",
    "    data.plot(kind=\"scatter\", x=pair[0], y=pair[1], alpha=0.1, c='class_num', cmap=plt.get_cmap('jet'))\n",
    "    plt.show()"
   ]
  },
  {
   "cell_type": "markdown",
   "id": "b16c8144",
   "metadata": {},
   "source": [
    "## 10. Scatterplots für verschiedene Sensorpaare"
   ]
  },
  {
   "cell_type": "code",
   "execution_count": null,
   "id": "e48ffdcd",
   "metadata": {},
   "outputs": [],
   "source": [
    "# Erstelle eine temporäre Spalte 'class' basierend auf One-Hot-Encoding\n",
    "data['class'] = data.apply(lambda row: 1 if row['RuheState'] == 1 else (2 if row['FernstState'] == 1 else 3), axis=1)\n",
    "\n",
    "# Visualisiere Scatterplots für jedes Sensor-Paar\n",
    "sensor_pairs = [('AccX', 'AccY'), ('GyroX', 'GyroY'), ('GyroZ', 'AngleX'), ('AngleY', 'AngleZ')]\n",
    "for pair in sensor_pairs:\n",
    "    data.plot(kind=\"scatter\", x=pair[0], y=pair[1], alpha=0.1, c='class', cmap=plt.get_cmap('jet'))\n",
    "    #plt.title(f'Unskalierte Werte - {pair[0]} vs. {pair[1]}')\n",
    "    plt.show()\n",
    "\n",
    "# Entferne die temporäre 'class'-Spalte\n",
    "data.drop('class', axis=1, inplace=True)\n"
   ]
  },
  {
   "cell_type": "markdown",
   "id": "cb0722d2",
   "metadata": {},
   "source": [
    "## 11. One Hot encoding der Klasse durchführen, wenn noch nicht geschehen (Beispiel)"
   ]
  },
  {
   "cell_type": "code",
   "execution_count": null,
   "id": "6149f9ae",
   "metadata": {},
   "outputs": [],
   "source": [
    "#from sklearn.preprocessing import OneHotEncoder\n",
    "#encoder = OneHotEncoder(categories='auto');\n",
    "#data_label_matrix = data[\"class\"].values.reshape(-1, 1)\n",
    "#data_labels_1hot = encoder.fit_transform(data_label_matrix)\n",
    "#data_labels_1hot.shape"
   ]
  },
  {
   "cell_type": "markdown",
   "id": "01244526",
   "metadata": {},
   "source": [
    "## 12. Skalierung der Messwerte"
   ]
  },
  {
   "cell_type": "code",
   "execution_count": null,
   "id": "92f09f8d",
   "metadata": {},
   "outputs": [],
   "source": [
    "from sklearn.preprocessing import MinMaxScaler\n",
    "#data.drop('class', axis=1, inplace=True) # Ist bereits in Schritt 11 erfolgt\n",
    "scaler = MinMaxScaler()\n",
    "data_scaled = scaler.fit_transform(data)\n",
    "#print(\"data_scaled.shape:\", data_scaled.shape, \"\\ndata_scaled:\\n\", data_scaled) # uncomment to visualize details"
   ]
  },
  {
   "cell_type": "markdown",
   "id": "a24ea60f",
   "metadata": {},
   "source": [
    "## 14. Skatterplots von Messwertpaaren mit vorheriger Skalierung"
   ]
  },
  {
   "cell_type": "code",
   "execution_count": null,
   "id": "8e154017",
   "metadata": {},
   "outputs": [],
   "source": [
    "# Skalierte Werte in einem neuen DataFrame mit den ursprünglichen Spaltennamen\n",
    "data_scaled_df = pd.DataFrame(data_scaled, columns=data.columns)\n",
    "\n",
    "\n",
    "# Erstelle eine temporäre Spalte 'class' basierend auf One-Hot-Encoding\n",
    "data_scaled_df['class'] = data_scaled_df.apply(lambda row: 1 if row['RuheState'] == 1 else (2 if row['FernstState'] == 1 else 3), axis=1)\n",
    "\n",
    "\n",
    "# Visualisiere Scatterplots für jedes Sensor-Paar mit den skalierten Werten und den originalen Klassen\n",
    "sensor_pairs = [('AccX', 'AccY'), ('GyroX', 'GyroY'), ('GyroZ', 'AngleX'), ('AngleY', 'AngleZ')]\n",
    "for pair in sensor_pairs:\n",
    "    data_scaled_df.plot(kind=\"scatter\", x=pair[0], y=pair[1], alpha=0.1, c=data_scaled_df['class'], cmap=plt.get_cmap('jet'))\n",
    "    plt.title(f'Skalierte Werte - {pair[0]} vs. {pair[1]}')\n",
    "    plt.show()\n",
    "\n",
    "# Entferne die temporäre 'class'-Spalte\n",
    "#data_scaled_df.drop('class', axis=1, inplace=True)\n"
   ]
  },
  {
   "cell_type": "markdown",
   "metadata": {},
   "source": [
    "# 15. Vorverarbeitung"
   ]
  },
  {
   "cell_type": "code",
   "execution_count": null,
   "metadata": {},
   "outputs": [],
   "source": [
    "#"
   ]
  },
  {
   "cell_type": "markdown",
   "metadata": {},
   "source": [
    "# 16. Training des kNN"
   ]
  },
  {
   "cell_type": "code",
   "execution_count": null,
   "id": "8eb3155d",
   "metadata": {},
   "outputs": [],
   "source": [
    "from sklearn import neighbors\n",
    "import numpy as np\n",
    "\n",
    "num_features = 14\n",
    "X = np.zeros([len(data_scaled_df), num_features])\n",
    "y = np.ones([len(data_scaled_df)])\n",
    "k = 15\n",
    "clf = neighbors.KNeighborsClassifier(n_neighbors=k)\n",
    "clf.fit(data_scaled_df, y)"
   ]
  },
  {
   "cell_type": "markdown",
   "metadata": {},
   "source": [
    "# 17. Prediction"
   ]
  },
  {
   "cell_type": "code",
   "execution_count": null,
   "metadata": {},
   "outputs": [],
   "source": [
    "y_predict = clf.predict(data_scaled_df)\n",
    "\n",
    "acc = np.mean(y_predict == (data_scaled_df['class'] == 3).astype(int).values)\n",
    "acc"
   ]
  },
  {
   "cell_type": "code",
   "execution_count": null,
   "metadata": {},
   "outputs": [],
   "source": [
    "print(y_predict[:100])"
   ]
  }
 ],
 "metadata": {
  "kernelspec": {
   "display_name": "Python 3 (ipykernel)",
   "language": "python",
   "name": "python3"
  },
  "language_info": {
   "codemirror_mode": {
    "name": "ipython",
    "version": 3
   },
   "file_extension": ".py",
   "mimetype": "text/x-python",
   "name": "python",
   "nbconvert_exporter": "python",
   "pygments_lexer": "ipython3",
   "version": "3.8.8"
  }
 },
 "nbformat": 4,
 "nbformat_minor": 5
}
